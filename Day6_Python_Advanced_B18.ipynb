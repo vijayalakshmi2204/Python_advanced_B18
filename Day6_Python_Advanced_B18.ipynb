{
 "cells": [
  {
   "cell_type": "code",
   "execution_count": null,
   "metadata": {},
   "outputs": [],
   "source": [
    "deep copy and shallow copy\n",
    "**both clones and copy data to another array**"
   ]
  },
  {
   "cell_type": "code",
   "execution_count": null,
   "metadata": {},
   "outputs": [],
   "source": [
    "view copy----->shallow copy\n",
    "     ->clones the data and copies to another array\n",
    "     ->changes in cloned data affects the original data too\n",
    "     ->original data is impacted\n",
    "     ->view()"
   ]
  },
  {
   "cell_type": "code",
   "execution_count": 1,
   "metadata": {},
   "outputs": [],
   "source": [
    "import numpy as np"
   ]
  },
  {
   "cell_type": "code",
   "execution_count": 4,
   "metadata": {},
   "outputs": [],
   "source": [
    "country=np.array(['america','australia','china','india'])"
   ]
  },
  {
   "cell_type": "code",
   "execution_count": 5,
   "metadata": {},
   "outputs": [],
   "source": [
    "count1=country.view()\n",
    "count2=country.view()\n"
   ]
  },
  {
   "cell_type": "code",
   "execution_count": 7,
   "metadata": {},
   "outputs": [
    {
     "name": "stdout",
     "output_type": "stream",
     "text": [
      "['america' 'australia' 'china' 'india']\n"
     ]
    }
   ],
   "source": [
    "print(country)"
   ]
  },
  {
   "cell_type": "code",
   "execution_count": 8,
   "metadata": {},
   "outputs": [
    {
     "name": "stdout",
     "output_type": "stream",
     "text": [
      "['america' 'australia' 'china' 'india']\n",
      "['america' 'australia' 'china' 'india']\n"
     ]
    }
   ],
   "source": [
    "print(count1)\n",
    "print(count2)"
   ]
  },
  {
   "cell_type": "code",
   "execution_count": 11,
   "metadata": {},
   "outputs": [
    {
     "name": "stdout",
     "output_type": "stream",
     "text": [
      "country id: 2976831726016\n",
      "count1 id: 2976831726736\n",
      "count2 id: 2976831725776\n"
     ]
    }
   ],
   "source": [
    "print(f\"country id: {id(country)}\")\n",
    "print(f\"count1 id: {id(count1)}\")\n",
    "print(f\"count2 id: {id(count2)}\")\n"
   ]
  },
  {
   "cell_type": "code",
   "execution_count": null,
   "metadata": {},
   "outputs": [],
   "source": [
    "all the array id differs"
   ]
  },
  {
   "cell_type": "code",
   "execution_count": null,
   "metadata": {},
   "outputs": [],
   "source": [
    "impact on changing the data"
   ]
  },
  {
   "cell_type": "code",
   "execution_count": 12,
   "metadata": {},
   "outputs": [],
   "source": [
    "count1[2]='Newzealand'"
   ]
  },
  {
   "cell_type": "code",
   "execution_count": 13,
   "metadata": {},
   "outputs": [
    {
     "name": "stdout",
     "output_type": "stream",
     "text": [
      "['america' 'australia' 'Newzealan' 'india']\n"
     ]
    }
   ],
   "source": [
    "print(count1)"
   ]
  },
  {
   "cell_type": "code",
   "execution_count": 14,
   "metadata": {},
   "outputs": [
    {
     "name": "stdout",
     "output_type": "stream",
     "text": [
      "['america' 'australia' 'Newzealan' 'india']\n"
     ]
    }
   ],
   "source": [
    "print(count2)"
   ]
  },
  {
   "cell_type": "code",
   "execution_count": 15,
   "metadata": {},
   "outputs": [
    {
     "name": "stdout",
     "output_type": "stream",
     "text": [
      "['america' 'australia' 'Newzealan' 'india']\n"
     ]
    }
   ],
   "source": [
    "print(country)"
   ]
  },
  {
   "cell_type": "code",
   "execution_count": null,
   "metadata": {},
   "outputs": [],
   "source": [
    "Deep copy\n",
    "    ->copy()\n",
    "    ->changes to cloned data doesnt affect original data"
   ]
  },
  {
   "cell_type": "code",
   "execution_count": 18,
   "metadata": {},
   "outputs": [],
   "source": [
    "count3=country.copy()\n",
    "count4=country.copy()"
   ]
  },
  {
   "cell_type": "code",
   "execution_count": 19,
   "metadata": {},
   "outputs": [
    {
     "name": "stdout",
     "output_type": "stream",
     "text": [
      "['america' 'australia' 'Newzealan' 'india']\n",
      "['america' 'australia' 'Newzealan' 'india']\n",
      "['america' 'australia' 'Newzealan' 'india']\n"
     ]
    }
   ],
   "source": [
    "print(country)\n",
    "print(count3)\n",
    "print(count4)"
   ]
  },
  {
   "cell_type": "code",
   "execution_count": 20,
   "metadata": {},
   "outputs": [],
   "source": [
    "count3[0]='cuba'"
   ]
  },
  {
   "cell_type": "code",
   "execution_count": 21,
   "metadata": {},
   "outputs": [
    {
     "name": "stdout",
     "output_type": "stream",
     "text": [
      "['america' 'australia' 'Newzealan' 'india']\n",
      "['cuba' 'australia' 'Newzealan' 'india']\n",
      "['america' 'australia' 'Newzealan' 'india']\n"
     ]
    }
   ],
   "source": [
    "print(country)\n",
    "print(count3)\n",
    "print(count4)"
   ]
  },
  {
   "cell_type": "code",
   "execution_count": null,
   "metadata": {},
   "outputs": [],
   "source": [
    "changes doesnt affect the original data and other copies"
   ]
  },
  {
   "cell_type": "code",
   "execution_count": null,
   "metadata": {},
   "outputs": [],
   "source": [
    "*****array unpacking****\n",
    "  ->easy and alternate method to split method "
   ]
  },
  {
   "cell_type": "code",
   "execution_count": 23,
   "metadata": {},
   "outputs": [],
   "source": [
    "fruits=np.array([['apple','orange','grapes','kiwi'],\n",
    "                 ['avocado','blueberry','raspberry','strawberry']])"
   ]
  },
  {
   "cell_type": "code",
   "execution_count": 24,
   "metadata": {},
   "outputs": [],
   "source": [
    "fruits1,fruits2=fruits"
   ]
  },
  {
   "cell_type": "code",
   "execution_count": 26,
   "metadata": {},
   "outputs": [
    {
     "name": "stdout",
     "output_type": "stream",
     "text": [
      "['apple' 'orange' 'grapes' 'kiwi']\n"
     ]
    }
   ],
   "source": [
    "print(fruits1)\n"
   ]
  },
  {
   "cell_type": "code",
   "execution_count": 27,
   "metadata": {},
   "outputs": [
    {
     "name": "stdout",
     "output_type": "stream",
     "text": [
      "['avocado' 'blueberry' 'raspberry' 'strawberry']\n"
     ]
    }
   ],
   "source": [
    "print(fruits2)"
   ]
  },
  {
   "cell_type": "code",
   "execution_count": 29,
   "metadata": {},
   "outputs": [],
   "source": [
    "f1,f2=np.hsplit(fruits,2)"
   ]
  },
  {
   "cell_type": "code",
   "execution_count": 30,
   "metadata": {},
   "outputs": [
    {
     "name": "stdout",
     "output_type": "stream",
     "text": [
      "[['apple' 'orange']\n",
      " ['avocado' 'blueberry']]\n"
     ]
    }
   ],
   "source": [
    "print(f1)"
   ]
  },
  {
   "cell_type": "code",
   "execution_count": 31,
   "metadata": {},
   "outputs": [
    {
     "name": "stdout",
     "output_type": "stream",
     "text": [
      "[['grapes' 'kiwi']\n",
      " ['raspberry' 'strawberry']]\n"
     ]
    }
   ],
   "source": [
    "print(f2)"
   ]
  },
  {
   "cell_type": "code",
   "execution_count": 32,
   "metadata": {},
   "outputs": [],
   "source": [
    "f3,f4=np.vsplit(fruits,2)"
   ]
  },
  {
   "cell_type": "code",
   "execution_count": 33,
   "metadata": {},
   "outputs": [
    {
     "name": "stdout",
     "output_type": "stream",
     "text": [
      "[['apple' 'orange' 'grapes' 'kiwi']]\n"
     ]
    }
   ],
   "source": [
    "print(f3)"
   ]
  },
  {
   "cell_type": "code",
   "execution_count": 34,
   "metadata": {},
   "outputs": [
    {
     "name": "stdout",
     "output_type": "stream",
     "text": [
      "[['avocado' 'blueberry' 'raspberry' 'strawberry']]\n"
     ]
    }
   ],
   "source": [
    "print(f4)"
   ]
  },
  {
   "cell_type": "code",
   "execution_count": null,
   "metadata": {},
   "outputs": [],
   "source": []
  }
 ],
 "metadata": {
  "kernelspec": {
   "display_name": "Python 3",
   "language": "python",
   "name": "python3"
  },
  "language_info": {
   "codemirror_mode": {
    "name": "ipython",
    "version": 3
   },
   "file_extension": ".py",
   "mimetype": "text/x-python",
   "name": "python",
   "nbconvert_exporter": "python",
   "pygments_lexer": "ipython3",
   "version": "3.7.6"
  }
 },
 "nbformat": 4,
 "nbformat_minor": 4
}
