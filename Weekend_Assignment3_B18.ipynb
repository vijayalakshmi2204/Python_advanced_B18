{
 "cells": [
  {
   "cell_type": "code",
   "execution_count": null,
   "metadata": {},
   "outputs": [],
   "source": []
  },
  {
   "cell_type": "code",
   "execution_count": null,
   "metadata": {},
   "outputs": [],
   "source": [
    "Question1:"
   ]
  },
  {
   "cell_type": "code",
   "execution_count": 3,
   "metadata": {},
   "outputs": [],
   "source": [
    "def do_sandwich(*ingred):\n",
    "    print(\"\"\"SANDWICH CORNER\"\"\")\n",
    "    for item in ingred:\n",
    "        print(f\" add {item} to the brown bread\")\n",
    "    print(\"sandwich is ready\")"
   ]
  },
  {
   "cell_type": "code",
   "execution_count": 4,
   "metadata": {},
   "outputs": [
    {
     "name": "stdout",
     "output_type": "stream",
     "text": [
      "SANDWICH CORNER\n",
      " add cheese to the brown bread\n",
      " add lettuce to the brown bread\n",
      " add tomato to the brown bread\n",
      "sandwich is ready\n",
      "SANDWICH CORNER\n",
      " add cucumber to the brown bread\n",
      " add spinach to the brown bread\n",
      " add chicken to the brown bread\n",
      " add mayonise to the brown bread\n",
      "sandwich is ready\n",
      "SANDWICH CORNER\n",
      " add egg,yogurt to the brown bread\n",
      " add cucumber to the brown bread\n",
      " add mayonise to the brown bread\n",
      "sandwich is ready\n"
     ]
    }
   ],
   "source": [
    "do_sandwich('cheese', 'lettuce','tomato')\n",
    "do_sandwich('cucumber','spinach','chicken','mayonise')\n",
    "do_sandwich('egg,yogurt','cucumber','mayonise')\n",
    "\n"
   ]
  },
  {
   "cell_type": "code",
   "execution_count": null,
   "metadata": {},
   "outputs": [],
   "source": [
    "Question 2:"
   ]
  },
  {
   "cell_type": "code",
   "execution_count": 8,
   "metadata": {},
   "outputs": [],
   "source": [
    "def car_info(manufacturer,model,**options):\n",
    "    print(\"Car information stored in dictionary\")\n",
    "    car_dict={'manufacturer':manufacturer.title(),'model':model.title()}\n",
    "    for x,y in options.items():\n",
    "        car_dict[x]=y\n",
    "    return car_dict"
   ]
  },
  {
   "cell_type": "code",
   "execution_count": 9,
   "metadata": {},
   "outputs": [
    {
     "name": "stdout",
     "output_type": "stream",
     "text": [
      "Car information stored in dictionary\n",
      "{'manufacturer': 'Subaru', 'model': 'Outback', 'color': 'blue', 'tow_package': True}\n"
     ]
    }
   ],
   "source": [
    "car_subaru=car_info('subaru','outback',color='blue',tow_package=True)\n",
    "print(car_subaru)"
   ]
  },
  {
   "cell_type": "code",
   "execution_count": null,
   "metadata": {},
   "outputs": [],
   "source": [
    "Question 3:"
   ]
  },
  {
   "cell_type": "code",
   "execution_count": 19,
   "metadata": {},
   "outputs": [
    {
     "name": "stdout",
     "output_type": "stream",
     "text": [
      "enter a value: 2\n",
      "enter b value: rt\n",
      "Invalid..Pls enter again\n"
     ]
    }
   ],
   "source": [
    "try:\n",
    "    a=int(input(\"enter a value: \"))\n",
    "    b=int(input(\"enter b value: \"))\n",
    "    print(a+b)\n",
    "except ValueError:\n",
    "    print(\"Invalid..Pls enter again\")"
   ]
  },
  {
   "cell_type": "code",
   "execution_count": null,
   "metadata": {},
   "outputs": [],
   "source": []
  }
 ],
 "metadata": {
  "kernelspec": {
   "display_name": "Python 3",
   "language": "python",
   "name": "python3"
  },
  "language_info": {
   "codemirror_mode": {
    "name": "ipython",
    "version": 3
   },
   "file_extension": ".py",
   "mimetype": "text/x-python",
   "name": "python",
   "nbconvert_exporter": "python",
   "pygments_lexer": "ipython3",
   "version": "3.7.6"
  }
 },
 "nbformat": 4,
 "nbformat_minor": 4
}
